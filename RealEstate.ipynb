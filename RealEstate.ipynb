{
 "cells": [
  {
   "cell_type": "markdown",
   "id": "59d7f5a1",
   "metadata": {},
   "source": [
    "# Manually Scrape a Real Estate Webpage"
   ]
  },
  {
   "cell_type": "code",
   "execution_count": null,
   "id": "7f51b416",
   "metadata": {},
   "outputs": [],
   "source": [
    "!pip install selenium\n",
    "#import libraries for scraping\n",
    "import requests\n",
    "from bs4 import BeautifulSoup\n",
    "import selenium\n"
   ]
  },
  {
   "cell_type": "code",
   "execution_count": 5,
   "id": "9d8a1dd6",
   "metadata": {},
   "outputs": [
    {
     "name": "stdout",
     "output_type": "stream",
     "text": [
      "200\n"
     ]
    }
   ],
   "source": [
    "#requesting the webpage\n",
    "l=[]\n",
    "o={}\n",
    "target_url = \"https://www.redfin.com/CA/Livermore/La-Vina-Apartments/apartment/177431043\"  #random rental listing\n",
    "head={\"User-Agent\":\"Mozilla/5.0 (Windows NT 10.0; Win64; x64) AppleWebKit/537.36 (KHTML, like Gecko) Chrome/139.0.0.0 Safari/537.36\"}\n",
    "resp = requests.get(target_url, headers=head)\n",
    "\n",
    "print(resp.status_code)"
   ]
  },
  {
   "cell_type": "code",
   "execution_count": null,
   "id": "b8742161",
   "metadata": {},
   "outputs": [],
   "source": [
    "#parse the webpage\n",
    "soup = BeautifulSoup(resp.content, 'html.parser')\n",
    "soup.prettify()"
   ]
  },
  {
   "cell_type": "code",
   "execution_count": 7,
   "id": "cec31eb7",
   "metadata": {},
   "outputs": [
    {
     "name": "stdout",
     "output_type": "stream",
     "text": [
      "$2,840+ /mo\n"
     ]
    }
   ],
   "source": [
    "#find the price of property \n",
    "prices = soup.find_all('div', class_='statsValue price')\n",
    "for price in prices:\n",
    "    print(price.get_text())\n"
   ]
  },
  {
   "cell_type": "code",
   "execution_count": 8,
   "id": "0265b480",
   "metadata": {},
   "outputs": [
    {
     "name": "stdout",
     "output_type": "stream",
     "text": [
      "4601 Gerrilyn Way, Livermore, CA 94550\n"
     ]
    }
   ],
   "source": [
    "#find the address of property \n",
    "addresses = soup.find_all('div', class_='street-address')\n",
    "for address in addresses:\n",
    "    print(address.get_text())"
   ]
  },
  {
   "cell_type": "code",
   "execution_count": 9,
   "id": "44a9bb65",
   "metadata": {},
   "outputs": [
    {
     "name": "stdout",
     "output_type": "stream",
     "text": [
      "2bd•2ba•887sq ft\n"
     ]
    }
   ],
   "source": [
    "#find property attributes\n",
    "attribute = soup.find_all('div', class_='secondary-stats')\n",
    "for attr in attribute:\n",
    "    print(attr.get_text())\n"
   ]
  },
  {
   "cell_type": "code",
   "execution_count": null,
   "id": "7f3c08a5",
   "metadata": {},
   "outputs": [],
   "source": [
    "image = soup.find_all('img')\n",
    "for img in image:\n",
    "    print(img['src'])\n",
    "\n"
   ]
  },
  {
   "cell_type": "markdown",
   "id": "815d1cf0",
   "metadata": {},
   "source": [
    "# Foxit API to convert created HTML Pages to PDF"
   ]
  },
  {
   "cell_type": "code",
   "execution_count": 62,
   "id": "44b00ace",
   "metadata": {},
   "outputs": [
    {
     "name": "stdout",
     "output_type": "stream",
     "text": [
      "Uploaded doc to Foxit, id is 68b7d0b78fb8a36f7cb47607\n",
      "Created task, id is 68b7d0b8d45ce57595c8c4e1\n",
      "Current status, IN_PROGRESS, percentage: 10\n",
      "Current status, IN_PROGRESS, percentage: 20\n",
      "Final result: {'taskId': '68b7d0b8d45ce57595c8c4e1', 'status': 'COMPLETED', 'progress': 100, 'resultDocumentId': '68b7d0c2171e057d95265030'}\n",
      "Done and saved to: ./fromhtml.pdf\n"
     ]
    }
   ],
   "source": [
    "import os\n",
    "import requests\n",
    "import sys \n",
    "from time import sleep \n",
    "\n",
    "base_url = \"https://na1.fusion.foxit.com\"\n",
    "client_id = \"foxit_QXn-i7EcDW1Uvgdh\"\n",
    "client_secret = \"EebeG3bXf3XMui-9P0BA9oTiXxjs-dZs\"\n",
    "\n",
    "HOST = base_url\n",
    "CLIENT_ID = client_id\n",
    "CLIENT_SECRET = client_secret\n",
    "\n",
    "def uploadDoc(path, id, secret):\n",
    "\t\n",
    "\theaders = {\n",
    "\t\t\"client_id\":id,\n",
    "\t\t\"client_secret\":secret\n",
    "\t}\n",
    "\n",
    "\twith open(path, 'rb') as f:\n",
    "\t\tfiles = {'file': f}\n",
    "\n",
    "\t\trequest = requests.post(f\"{HOST}/pdf-services/api/documents/upload\", files=files, headers=headers)\n",
    "\t\treturn request.json()\n",
    "\n",
    "\n",
    "def htmlToPDF(doc, id, secret):\n",
    "\t\n",
    "\theaders = {\n",
    "\t\t\"client_id\":id,\n",
    "\t\t\"client_secret\":secret,\n",
    "\t\t\"Content-Type\":\"application/json\"\n",
    "\t}\n",
    "\n",
    "\tbody = {\n",
    "\t\t\"documentId\":doc\t\n",
    "\t}\n",
    "\n",
    "\trequest = requests.post(f\"{HOST}/pdf-services/api/documents/create/pdf-from-html\", json=body, headers=headers)\n",
    "\treturn request.json()\n",
    "\n",
    "def checkTask(task, id, secret):\n",
    "\n",
    "\theaders = {\n",
    "\t\t\"client_id\":id,\n",
    "\t\t\"client_secret\":secret,\n",
    "\t\t\"Content-Type\":\"application/json\"\n",
    "\t}\n",
    "\n",
    "\tdone = False\n",
    "\twhile done is False:\n",
    "\n",
    "\t\trequest = requests.get(f\"{HOST}/pdf-services/api/tasks/{task}\", headers=headers)\n",
    "\t\tstatus = request.json()\n",
    "\t\tif status[\"status\"] == \"COMPLETED\":\n",
    "\t\t\tdone = True\n",
    "\t\t\treturn status\n",
    "\t\telif status[\"status\"] == \"FAILED\":\n",
    "\t\t\tprint(\"Failure. Here is the last status:\")\n",
    "\t\t\tprint(status)\n",
    "\t\t\tsys.exit()\n",
    "\t\telse:\n",
    "\t\t\tprint(f\"Current status, {status['status']}, percentage: {status['progress']}\")\n",
    "\t\t\tsleep(5)\n",
    "\n",
    "\n",
    "def downloadResult(doc, path, id, secret):\n",
    "\t\n",
    "\theaders = {\n",
    "\t\t\"client_id\":id,\n",
    "\t\t\"client_secret\":secret\n",
    "\t}\n",
    "\n",
    "\twith open(path, \"wb\") as output:\n",
    "\t\t\n",
    "\t\tbits = requests.get(f\"{HOST}/pdf-services/api/documents/{doc}/download\", stream=True, headers=headers).content \n",
    "\t\toutput.write(bits)\n",
    "\n",
    "doc = uploadDoc(\"Las Ventanas - 3819 Vineyard Ave, Pleasanton, CA 94566 _ Redfin.html\", CLIENT_ID, CLIENT_SECRET)\n",
    "print(f\"Uploaded doc to Foxit, id is {doc['documentId']}\")\n",
    "\n",
    "task = htmlToPDF(doc[\"documentId\"], CLIENT_ID, CLIENT_SECRET)\n",
    "print(f\"Created task, id is {task['taskId']}\")\n",
    "result = checkTask(task[\"taskId\"], CLIENT_ID, CLIENT_SECRET)\n",
    "print(f\"Final result: {result}\")\n",
    "\n",
    "downloadResult(result[\"resultDocumentId\"], \"./fromhtml.pdf\", CLIENT_ID, CLIENT_SECRET)\n",
    "print(\"Done and saved to: ./fromhtml.pdf\")"
   ]
  },
  {
   "cell_type": "markdown",
   "id": "6321a196",
   "metadata": {},
   "source": [
    "# Foxit API compressor\n",
    "\n",
    "\n"
   ]
  },
  {
   "cell_type": "code",
   "execution_count": 5,
   "id": "6d18c039",
   "metadata": {},
   "outputs": [],
   "source": [
    "def uploadDoc(path, id, secret):\n",
    "\t\n",
    "\theaders = {\n",
    "\t\t\"client_id\":id,\n",
    "\t\t\"client_secret\":secret\n",
    "\t}\n",
    "\n",
    "\twith open(path, 'rb') as f:\n",
    "\t\tfiles = {'file': f}\n",
    "\n",
    "\t\trequest = requests.post(f\"{HOST}/pdf-services/api/documents/upload\", files=files, headers=headers)\n",
    "\t\treturn request.json()\n"
   ]
  },
  {
   "cell_type": "code",
   "execution_count": 43,
   "id": "7a178f39",
   "metadata": {},
   "outputs": [],
   "source": [
    "def compressPDF(doc, id, secret, level=\"HIGH\"):\n",
    "\t\n",
    "\theaders = {\n",
    "\t\t\"client_id\":id,\n",
    "\t\t\"client_secret\":secret,\n",
    "\t\t\"Content-Type\":\"application/json\"\n",
    "\t}\n",
    "\n",
    "\tbody = {\n",
    "\t\t\"documentId\":doc,\n",
    "\t\t\"compressionLevel\":level\n",
    "\t}\n",
    "\n",
    "\trequest = requests.post(f\"{HOST}/pdf-services/api/documents/modify/pdf-compress\", json=body, headers=headers)\n",
    "\treturn request.json()"
   ]
  },
  {
   "cell_type": "code",
   "execution_count": 44,
   "id": "36fd1e3d",
   "metadata": {},
   "outputs": [],
   "source": [
    "def checkTask(task, id, secret):\n",
    "\n",
    "\theaders = {\n",
    "\t\t\"client_id\":id,\n",
    "\t\t\"client_secret\":secret,\n",
    "\t\t\"Content-Type\":\"application/json\"\n",
    "\t}\n",
    "\n",
    "\tdone = False\n",
    "\twhile done is False:\n",
    "\t\trequest = requests.get(f\"{HOST}/pdf-services/api/tasks/{task}\", headers=headers)\n",
    "\t\tstatus = request.json()\n",
    "\t\tif status[\"status\"] == \"COMPLETED\":\n",
    "\t\t\tdone = True\n",
    "\t\t\t# really only need resultDocumentId, will address later\n",
    "\t\t\treturn status\n",
    "\t\telif status[\"status\"] == \"FAILED\":\n",
    "\t\t\tprint(\"Failure. Here is the last status:\")\n",
    "\t\t\tprint(status)\n",
    "\t\t\tsys.exit()\n",
    "\t\telse:\n",
    "\t\t\tprint(f\"Current status, {status['status']}, percentage: {status['progress']}\")\n",
    "\t\t\tsleep(5)"
   ]
  },
  {
   "cell_type": "code",
   "execution_count": 56,
   "id": "d44a3370",
   "metadata": {},
   "outputs": [
    {
     "name": "stdout",
     "output_type": "stream",
     "text": [
      "Uploaded pdf to Foxit, id is 68b891406b586632cc543612\n"
     ]
    }
   ],
   "source": [
    "def downloadResult(doc, path, id, secret):\n",
    "\t\n",
    "\theaders = {\n",
    "\t\t\"client_id\":id,\n",
    "\t\t\"client_secret\":secret\n",
    "\t}\n",
    "\n",
    "\twith open(path, \"wb\") as output:\n",
    "\t\t\n",
    "\t\tbits = requests.get(f\"{HOST}/pdf-services/api/documents/{doc}/download\", stream=True, headers=headers).content \n",
    "\t\toutput.write(bits)\n",
    "doc = uploadDoc(\"fromhtml.pdf\", CLIENT_ID, CLIENT_SECRET)\n",
    "print(f\"Uploaded pdf to Foxit, id is {doc['documentId']}\")"
   ]
  },
  {
   "cell_type": "code",
   "execution_count": 57,
   "id": "9e7e8d4e",
   "metadata": {},
   "outputs": [
    {
     "name": "stdout",
     "output_type": "stream",
     "text": [
      "Created task, id is 68b89145dedfd24189964ad8\n",
      "Final result: {'taskId': '68b89145dedfd24189964ad8', 'status': 'COMPLETED', 'progress': 100, 'resultDocumentId': '68b89145866e93517dd4c20a'}\n"
     ]
    }
   ],
   "source": [
    "task = compressPDF(doc[\"documentId\"], CLIENT_ID, CLIENT_SECRET)\n",
    "print(f\"Created task, id is {task['taskId']}\")\n",
    "result = checkTask(task[\"taskId\"], CLIENT_ID, CLIENT_SECRET)\n",
    "print(f\"Final result: {result}\")"
   ]
  },
  {
   "cell_type": "code",
   "execution_count": 59,
   "id": "e9ae9c30",
   "metadata": {},
   "outputs": [
    {
     "name": "stdout",
     "output_type": "stream",
     "text": [
      "compressor.pdf\n"
     ]
    }
   ],
   "source": [
    "downloadResult(result[\"resultDocumentId\"], \"compressor.pdf\", CLIENT_ID, CLIENT_SECRET)\n",
    "print(\"compressor.pdf\")"
   ]
  },
  {
   "cell_type": "code",
   "execution_count": null,
   "id": "26e6cd4b",
   "metadata": {},
   "outputs": [],
   "source": []
  },
  {
   "cell_type": "markdown",
   "id": "bb2186e8",
   "metadata": {},
   "source": [
    "# Utilizing Foxit API to convert DOCX to PDF and add data into PDF"
   ]
  },
  {
   "cell_type": "code",
   "execution_count": 53,
   "id": "43154a02",
   "metadata": {},
   "outputs": [
    {
     "name": "stdout",
     "output_type": "stream",
     "text": [
      "{\"message\":\"PDF Document Generated Successfully\",\"fileExtension\":\"pdf\",\"base64FileString\":\"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\"}\n"
     ]
    }
   ],
   "source": [
    "import os\n",
    "import requests\n",
    "import sys \n",
    "from time import sleep \n",
    "import base64 \n",
    "from datetime import datetime\n",
    "import json\n",
    "\n",
    "base_url = \"https://na1.fusion.foxit.com\"\n",
    "client_id = \"foxit_QXn-i7EcDW1Uvgdh\"\n",
    "client_secret = \"EebeG3bXf3XMui-9P0BA9oTiXxjs-dZs\"\n",
    "\n",
    "SAMPLE_DOCX_FILEPATH = \"./docgen_sample.docx\"\n",
    "with open(SAMPLE_DOCX_FILEPATH, 'rb') as file:\n",
    "\tbd = file.read()\n",
    "\tb64 = base64.b64encode(bd).decode('utf-8')\n",
    "\n",
    "data = {\n",
    "\t\"name\":\"Raymond Camden\", \n",
    "\t\"food\": \"sushi\",\n",
    "\t\"favoriteMovie\": \"Star Wars\",\n",
    "\t\"cats\": [\n",
    "\t\t{\"name\":\"Elise\", \"gender\":\"female\", \"age\":14 },\n",
    "\t\t{\"name\":\"Luna\", \"gender\":\"female\", \"age\":13 },\n",
    "\t\t{\"name\":\"Crackers\", \"gender\":\"male\", \"age\":13 },\n",
    "\t\t{\"name\":\"Gracie\", \"gender\":\"female\", \"age\":12 },\n",
    "\t\t{\"name\":\"Pig\", \"gender\":\"female\", \"age\":10 },\n",
    "\t\t{\"name\":\"Zelda\", \"gender\":\"female\", \"age\":2 },\n",
    "\t\t{\"name\":\"Wednesday\", \"gender\":\"female\", \"age\":1 },\n",
    "\t],\n",
    "}\n",
    "\n",
    "payload = {\n",
    "\t\t\"outputFormat\":\"pdf\",\n",
    "\t\t\"documentValues\": data,  \n",
    "\t\t\"base64FileString\":b64\n",
    "\t}\n",
    "body = json.dumps(payload)\n",
    "\n",
    "headers = {\n",
    "\t\t\"client_id\":client_id,\n",
    "\t\t\"client_secret\":client_secret\n",
    "\t}\n",
    "conn = http.client.HTTPSConnection(\"na1.fusion.foxit.com\")\n",
    "conn.request(\"POST\", \"/document-generation/api/GenerateDocumentBase64\", body, headers)\n",
    "\n",
    "resp = conn.getresponse()\n",
    "reader = resp.read()\n",
    "print(reader.decode(\"utf-8\"))"
   ]
  },
  {
   "cell_type": "code",
   "execution_count": 55,
   "id": "cc9a1292",
   "metadata": {},
   "outputs": [],
   "source": [
    "parsed = json.loads(reader)\n",
    "b64_str = parsed[\"base64FileString\"]\n"
   ]
  },
  {
   "cell_type": "code",
   "execution_count": 57,
   "id": "10184af1",
   "metadata": {},
   "outputs": [],
   "source": [
    "binary_data = base64.b64decode(b64_str)\n",
    "\n",
    "with open(\"output.pdf\", \"wb\") as f:\n",
    "    f.write(binary_data)"
   ]
  }
 ],
 "metadata": {
  "kernelspec": {
   "display_name": "base",
   "language": "python",
   "name": "python3"
  },
  "language_info": {
   "codemirror_mode": {
    "name": "ipython",
    "version": 3
   },
   "file_extension": ".py",
   "mimetype": "text/x-python",
   "name": "python",
   "nbconvert_exporter": "python",
   "pygments_lexer": "ipython3",
   "version": "3.12.7"
  }
 },
 "nbformat": 4,
 "nbformat_minor": 5
}
